{
 "cells": [
  {
   "cell_type": "markdown",
   "metadata": {},
   "source": [
    "## Rank based on External Data (ABS and ATO)\n",
    "\n",
    "Notebook to produce ranking based on external data (ABS data and ATO data). Weighted average rank based on:\n",
    "  * Education occupation score\n",
    "    * Measures the educational and occupational characteristics of communities, including educational attainment and ongoing education pursuits, as well as occupation categories based on the Australian and New Zealand Standard Classification of Occupations (ANZSCO)\n",
    "  * Relative socioeconomic disadvantage score \n",
    "    * A comprehensive socio-economic indicator that condenses various data concerning the economic and social circumstances of individuals and households residing in a specific area\n",
    "  * Per Capita income = Total taxable income/ number of tax payers"
   ]
  },
  {
   "cell_type": "code",
   "execution_count": 1,
   "metadata": {},
   "outputs": [],
   "source": [
    "# import libraries and constants\n",
    "import sys\n",
    "sys.path.append('../scripts/utils')\n",
    "from constants import *\n",
    "\n",
    "from pyspark.sql import SparkSession\n",
    "from pyspark.sql import functions as F\n",
    "import pandas as pd"
   ]
  },
  {
   "cell_type": "code",
   "execution_count": 2,
   "metadata": {},
   "outputs": [
    {
     "name": "stderr",
     "output_type": "stream",
     "text": [
      "23/10/19 14:32:55 WARN Utils: Your hostname, vanessas-MacBook-Pro-3.local resolves to a loopback address: 127.0.0.1; using 192.168.18.7 instead (on interface en0)\n",
      "23/10/19 14:32:55 WARN Utils: Set SPARK_LOCAL_IP if you need to bind to another address\n",
      "Setting default log level to \"WARN\".\n",
      "To adjust logging level use sc.setLogLevel(newLevel). For SparkR, use setLogLevel(newLevel).\n",
      "23/10/19 14:32:56 WARN NativeCodeLoader: Unable to load native-hadoop library for your platform... using builtin-java classes where applicable\n",
      "23/10/19 14:32:57 WARN Utils: Service 'SparkUI' could not bind on port 4040. Attempting port 4041.\n"
     ]
    }
   ],
   "source": [
    "# create a spark session \n",
    "spark = (\n",
    "    SparkSession.builder.appName(\"MAST30034 Project 2\")\n",
    "    .config(\"spark.sql.repl.eagerEval.enabled\", True) \n",
    "    .config(\"spark.sql.parquet.cacheMetadata\", \"true\")\n",
    "    .config(\"spark.sql.session.timeZone\", \"Etc/UTC\")\n",
    "    .config('spark.driver.memory', '4g')\n",
    "    .config('spark.executor.memory', '2g')\n",
    "    .getOrCreate()\n",
    ")"
   ]
  },
  {
   "cell_type": "code",
   "execution_count": 3,
   "metadata": {},
   "outputs": [
    {
     "name": "stderr",
     "output_type": "stream",
     "text": [
      "                                                                                \r"
     ]
    }
   ],
   "source": [
    "# read data\n",
    "tbl_merchants = pd.read_pickle(f\"{CURATED_DATA}tbl_merchants.pkl\")\n",
    "tbl_consumers = pd.read_pickle(f\"{CURATED_DATA}tbl_consumer.pkl\")\n",
    "transactions = spark.read.parquet(f\"{TRANSACTION_DATA}\")\n",
    "consumer_abs = spark.createDataFrame(pd.read_pickle(f\"{CURATED_DATA}consumer_abs_data.pkl\"))\n",
    "consumer_ato =spark.createDataFrame(pd.read_pickle(f\"{CURATED_DATA}consumer_ato_data.pkl\"))\n",
    "\n",
    "# join to get transactions with merchants and consumers details\n",
    "transactions_joined = transactions.join(spark.createDataFrame(tbl_consumers), on=\"user_id\", how=\"inner\") \n",
    "transactions_joined = transactions_joined.withColumnRenamed(\"name\", \"con_name\")\n",
    "transactions_joined = transactions_joined.join(spark.createDataFrame(tbl_merchants), on=\"merchant_abn\", how=\"inner\")\n",
    "transactions_joined = transactions_joined.withColumnRenamed(\"name\", \"mer_name\")"
   ]
  },
  {
   "cell_type": "code",
   "execution_count": 4,
   "metadata": {},
   "outputs": [],
   "source": [
    "# add a new column called capita_income (= total_taxable_income / num_tax_payers)\n",
    "consumer_ato = consumer_ato.withColumn(\"capita_income\", (consumer_ato.total_taxable_income/consumer_ato.num_tax_payers))"
   ]
  },
  {
   "cell_type": "code",
   "execution_count": 5,
   "metadata": {},
   "outputs": [],
   "source": [
    "# join transactions data with ABS and ATO data\n",
    "transactions_joined = transactions_joined.join(consumer_abs, on=\"user_id\", how=\"left\")\n",
    "transactions_joined = transactions_joined.join(consumer_ato, on=\"user_id\", how=\"left\")"
   ]
  },
  {
   "cell_type": "code",
   "execution_count": 6,
   "metadata": {},
   "outputs": [
    {
     "name": "stderr",
     "output_type": "stream",
     "text": [
      "23/10/19 14:35:11 WARN TaskSetManager: Stage 2 contains a task of very large size (3029 KiB). The maximum recommended task size is 1000 KiB.\n",
      "23/10/19 14:35:14 WARN TaskSetManager: Stage 4 contains a task of very large size (13037 KiB). The maximum recommended task size is 1000 KiB.\n",
      "23/10/19 14:35:16 WARN TaskSetManager: Stage 5 contains a task of very large size (5791 KiB). The maximum recommended task size is 1000 KiB.\n",
      "                                                                                \r"
     ]
    }
   ],
   "source": [
    "# aggregate based on metrics\n",
    "\n",
    "transactions_grouped = transactions_joined.groupBy(\"merchant_abn\").agg(\n",
    "    F.mean(\"relative_SE_dis_score\").alias(\"avg_relative_SE_dis_score\"),\n",
    "    F.mean(\"education_occupation_score\").alias(\"avg_education_occupation_score\"),\n",
    "    F.mean(\"capita_income\").alias(\"avg_capita_income\")\n",
    ").toPandas()"
   ]
  },
  {
   "cell_type": "markdown",
   "metadata": {},
   "source": [
    "### Weighted Average Ranking\n",
    "\n",
    "The Relative Socioeconomic Disadvantage score serves as a general socio-economic index, encapsulating various factors including education, occupation, and income. In our analysis, we intentionally assign a weight of 0.3 to SES_WEIGHT to balance the comprehensive nature of Relative Socioeconomic Disadvantage score while affording specific indices, education and occupation score, and income, a slightly greater focus with equal weights of 0.35 each. Importantly, we acknowledge the intricate interplay between Index of Education and Occupation and Relative Socioeconomic Disadvantage score, characterized by a non-linear relationship, underlining the distinct yet interconnected roles in influencing socio-economic outcomes."
   ]
  },
  {
   "cell_type": "code",
   "execution_count": 7,
   "metadata": {},
   "outputs": [],
   "source": [
    "# define weights\n",
    "\n",
    "SES_WEIGHT = 0.3\n",
    "EDU_OCC_WEIGHT = 0.35\n",
    "INCOME_WEIGHT = 0.35"
   ]
  },
  {
   "cell_type": "code",
   "execution_count": 8,
   "metadata": {},
   "outputs": [
    {
     "data": {
      "text/html": [
       "<div>\n",
       "<style scoped>\n",
       "    .dataframe tbody tr th:only-of-type {\n",
       "        vertical-align: middle;\n",
       "    }\n",
       "\n",
       "    .dataframe tbody tr th {\n",
       "        vertical-align: top;\n",
       "    }\n",
       "\n",
       "    .dataframe thead th {\n",
       "        text-align: right;\n",
       "    }\n",
       "</style>\n",
       "<table border=\"1\" class=\"dataframe\">\n",
       "  <thead>\n",
       "    <tr style=\"text-align: right;\">\n",
       "      <th></th>\n",
       "      <th>merchant_abn</th>\n",
       "      <th>avg_relative_SE_dis_score</th>\n",
       "      <th>avg_education_occupation_score</th>\n",
       "      <th>avg_capita_income</th>\n",
       "      <th>metric</th>\n",
       "      <th>rank</th>\n",
       "    </tr>\n",
       "  </thead>\n",
       "  <tbody>\n",
       "    <tr>\n",
       "      <th>0</th>\n",
       "      <td>10023283211</td>\n",
       "      <td>0.576735</td>\n",
       "      <td>0.492216</td>\n",
       "      <td>0.325141</td>\n",
       "      <td>0.459096</td>\n",
       "      <td>3004</td>\n",
       "    </tr>\n",
       "    <tr>\n",
       "      <th>1</th>\n",
       "      <td>10142254217</td>\n",
       "      <td>0.575770</td>\n",
       "      <td>0.494277</td>\n",
       "      <td>0.341362</td>\n",
       "      <td>0.465204</td>\n",
       "      <td>2491</td>\n",
       "    </tr>\n",
       "    <tr>\n",
       "      <th>2</th>\n",
       "      <td>10165489824</td>\n",
       "      <td>0.695685</td>\n",
       "      <td>0.625098</td>\n",
       "      <td>0.392341</td>\n",
       "      <td>0.564809</td>\n",
       "      <td>76</td>\n",
       "    </tr>\n",
       "    <tr>\n",
       "      <th>3</th>\n",
       "      <td>10187291046</td>\n",
       "      <td>0.583622</td>\n",
       "      <td>0.476928</td>\n",
       "      <td>0.329665</td>\n",
       "      <td>0.457394</td>\n",
       "      <td>3112</td>\n",
       "    </tr>\n",
       "    <tr>\n",
       "      <th>4</th>\n",
       "      <td>10192359162</td>\n",
       "      <td>0.623367</td>\n",
       "      <td>0.497337</td>\n",
       "      <td>0.363297</td>\n",
       "      <td>0.488232</td>\n",
       "      <td>566</td>\n",
       "    </tr>\n",
       "    <tr>\n",
       "      <th>...</th>\n",
       "      <td>...</td>\n",
       "      <td>...</td>\n",
       "      <td>...</td>\n",
       "      <td>...</td>\n",
       "      <td>...</td>\n",
       "      <td>...</td>\n",
       "    </tr>\n",
       "    <tr>\n",
       "      <th>4017</th>\n",
       "      <td>99938978285</td>\n",
       "      <td>0.583465</td>\n",
       "      <td>0.494607</td>\n",
       "      <td>0.342689</td>\n",
       "      <td>0.468093</td>\n",
       "      <td>2060</td>\n",
       "    </tr>\n",
       "    <tr>\n",
       "      <th>4018</th>\n",
       "      <td>99974311662</td>\n",
       "      <td>0.564760</td>\n",
       "      <td>0.453529</td>\n",
       "      <td>0.296808</td>\n",
       "      <td>0.432046</td>\n",
       "      <td>3685</td>\n",
       "    </tr>\n",
       "    <tr>\n",
       "      <th>4019</th>\n",
       "      <td>99976658299</td>\n",
       "      <td>0.585211</td>\n",
       "      <td>0.495118</td>\n",
       "      <td>0.340706</td>\n",
       "      <td>0.468101</td>\n",
       "      <td>2055</td>\n",
       "    </tr>\n",
       "    <tr>\n",
       "      <th>4020</th>\n",
       "      <td>99987905597</td>\n",
       "      <td>0.602002</td>\n",
       "      <td>0.524302</td>\n",
       "      <td>0.318035</td>\n",
       "      <td>0.475418</td>\n",
       "      <td>1140</td>\n",
       "    </tr>\n",
       "    <tr>\n",
       "      <th>4021</th>\n",
       "      <td>99990536339</td>\n",
       "      <td>0.575039</td>\n",
       "      <td>0.416963</td>\n",
       "      <td>0.288955</td>\n",
       "      <td>0.419583</td>\n",
       "      <td>3779</td>\n",
       "    </tr>\n",
       "  </tbody>\n",
       "</table>\n",
       "<p>4022 rows × 6 columns</p>\n",
       "</div>"
      ],
      "text/plain": [
       "      merchant_abn  avg_relative_SE_dis_score  avg_education_occupation_score  \\\n",
       "0      10023283211                   0.576735                        0.492216   \n",
       "1      10142254217                   0.575770                        0.494277   \n",
       "2      10165489824                   0.695685                        0.625098   \n",
       "3      10187291046                   0.583622                        0.476928   \n",
       "4      10192359162                   0.623367                        0.497337   \n",
       "...            ...                        ...                             ...   \n",
       "4017   99938978285                   0.583465                        0.494607   \n",
       "4018   99974311662                   0.564760                        0.453529   \n",
       "4019   99976658299                   0.585211                        0.495118   \n",
       "4020   99987905597                   0.602002                        0.524302   \n",
       "4021   99990536339                   0.575039                        0.416963   \n",
       "\n",
       "      avg_capita_income    metric  rank  \n",
       "0              0.325141  0.459096  3004  \n",
       "1              0.341362  0.465204  2491  \n",
       "2              0.392341  0.564809    76  \n",
       "3              0.329665  0.457394  3112  \n",
       "4              0.363297  0.488232   566  \n",
       "...                 ...       ...   ...  \n",
       "4017           0.342689  0.468093  2060  \n",
       "4018           0.296808  0.432046  3685  \n",
       "4019           0.340706  0.468101  2055  \n",
       "4020           0.318035  0.475418  1140  \n",
       "4021           0.288955  0.419583  3779  \n",
       "\n",
       "[4022 rows x 6 columns]"
      ]
     },
     "execution_count": 8,
     "metadata": {},
     "output_type": "execute_result"
    }
   ],
   "source": [
    "# remove NaNs\n",
    "ranking_df = transactions_grouped.dropna()\n",
    "\n",
    "def normalize_column(column: pd.Series) -> pd.Series:\n",
    "    '''\n",
    "    Normalize a series.\n",
    "    Arguments:\n",
    "      - column = series to be normalized\n",
    "    Output:\n",
    "      - the normalized series\n",
    "    '''\n",
    "\n",
    "    min_value = column.min()\n",
    "    max_value = column.max()\n",
    "    return (column - min_value) / (max_value - min_value)\n",
    "\n",
    "# normalize\n",
    "normalized_columns = ranking_df.drop(columns=['merchant_abn']).apply(normalize_column)\n",
    "ranking_df = pd.concat([ranking_df['merchant_abn'], normalized_columns], axis=1)\n",
    "\n",
    "# create new column\n",
    "ranking_df[\"metric\"] = SES_WEIGHT*ranking_df[\"avg_relative_SE_dis_score\"] + EDU_OCC_WEIGHT*ranking_df[\"avg_education_occupation_score\"] + \\\n",
    "    INCOME_WEIGHT*ranking_df[\"avg_capita_income\"]\n",
    "\n",
    "# sort, then rank\n",
    "ranking_df = ranking_df.sort_values(by='metric', ascending=False)\n",
    "ranking_df['rank'] = range(1, len(ranking_df) + 1)\n",
    "ranking_df = ranking_df.sort_values(by='merchant_abn')\n",
    "ranking_df = ranking_df.reset_index(drop=True)\n",
    "\n",
    "# save to analysis layer\n",
    "ranking_df.to_pickle(f\"{ANALYSIS_DATA}external_data_ranking.pkl\")\n",
    "\n",
    "ranking_df"
   ]
  }
 ],
 "metadata": {
  "interpreter": {
   "hash": "aee8b7b246df8f9039afb4144a1f6fd8d2ca17a180786b69acc140d282b71a49"
  },
  "kernelspec": {
   "display_name": "Python 3.10.10 64-bit",
   "language": "python",
   "name": "python3"
  },
  "language_info": {
   "codemirror_mode": {
    "name": "ipython",
    "version": 3
   },
   "file_extension": ".py",
   "mimetype": "text/x-python",
   "name": "python",
   "nbconvert_exporter": "python",
   "pygments_lexer": "ipython3",
   "version": "3.10.10"
  },
  "orig_nbformat": 4
 },
 "nbformat": 4,
 "nbformat_minor": 2
}
