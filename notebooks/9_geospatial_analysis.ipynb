{
 "cells": [
  {
   "cell_type": "markdown",
   "metadata": {},
   "source": [
    "# Geospatial Analysis Work"
   ]
  },
  {
   "cell_type": "markdown",
   "metadata": {},
   "source": [
    "<div class=\"alert alert-block alert-danger\">\n",
    "Warning: This notebook might take a while to run.\n",
    "</div>"
   ]
  },
  {
   "cell_type": "markdown",
   "metadata": {},
   "source": [
    "In this notebook, we performed some geospatial analysis as part of our intial analysis phase. Nothing particularly insightful is found, other than the fact that desert areas in Australia still has a large revenue."
   ]
  },
  {
   "cell_type": "code",
   "execution_count": 1,
   "metadata": {},
   "outputs": [],
   "source": [
    "# import constants and libraries\n",
    "import sys\n",
    "sys.path.append('../scripts/utils')\n",
    "from constants import *\n",
    "\n",
    "import geopandas as gpd\n",
    "import pandas as pd\n",
    "import folium\n",
    "from pyspark.sql import SparkSession\n",
    "from pyspark.sql import functions as F\n",
    "import numpy as np"
   ]
  },
  {
   "cell_type": "code",
   "execution_count": 2,
   "metadata": {},
   "outputs": [
    {
     "name": "stderr",
     "output_type": "stream",
     "text": [
      "23/10/19 11:07:43 WARN Utils: Your hostname, vanessas-MacBook-Pro-3.local resolves to a loopback address: 127.0.0.1; using 192.168.18.7 instead (on interface en0)\n",
      "23/10/19 11:07:43 WARN Utils: Set SPARK_LOCAL_IP if you need to bind to another address\n",
      "Setting default log level to \"WARN\".\n",
      "To adjust logging level use sc.setLogLevel(newLevel). For SparkR, use setLogLevel(newLevel).\n",
      "23/10/19 11:07:43 WARN NativeCodeLoader: Unable to load native-hadoop library for your platform... using builtin-java classes where applicable\n",
      "23/10/19 11:07:44 WARN Utils: Service 'SparkUI' could not bind on port 4040. Attempting port 4041.\n",
      "23/10/19 11:07:44 WARN Utils: Service 'SparkUI' could not bind on port 4041. Attempting port 4042.\n"
     ]
    }
   ],
   "source": [
    "# create a spark session \n",
    "spark = (\n",
    "    SparkSession.builder.appName(\"MAST30034 Project 2\")\n",
    "    .config(\"spark.sql.repl.eagerEval.enabled\", True) \n",
    "    .config(\"spark.sql.parquet.cacheMetadata\", \"true\")\n",
    "    .config(\"spark.sql.session.timeZone\", \"Etc/UTC\")\n",
    "    .config('spark.driver.memory', '4g')\n",
    "    .config('spark.executor.memory', '2g')\n",
    "    .getOrCreate()\n",
    ")"
   ]
  },
  {
   "cell_type": "markdown",
   "metadata": {},
   "source": [
    "### Calculate Revenue of each SA2 Area"
   ]
  },
  {
   "cell_type": "code",
   "execution_count": 3,
   "metadata": {},
   "outputs": [
    {
     "name": "stderr",
     "output_type": "stream",
     "text": [
      "                                                                                \r"
     ]
    }
   ],
   "source": [
    "# read data and aggregate\n",
    "sf = gpd.read_file(f\"{LANDING_DATA}SA2_2021_AUST_GDA2020.shp\")\n",
    "sa2 = pd.read_pickle(f\"{RAW_DATA}SA2_code.pkl\")\n",
    "transaction_data = spark.read.parquet(f'{TRANSACTION_DATA}').groupBy(\"user_id\").sum(\"dollar_value\")\n",
    "consumer_data = spark.createDataFrame(pd.read_pickle(f\"{CURATED_DATA}tbl_consumer.pkl\")[[\"user_id\", \"postcode\"]])\n",
    "transaction_consumer = transaction_data.join(consumer_data, on=\"user_id\", how=\"inner\").toPandas()"
   ]
  },
  {
   "cell_type": "code",
   "execution_count": 7,
   "metadata": {},
   "outputs": [
    {
     "data": {
      "text/html": [
       "<div>\n",
       "<style scoped>\n",
       "    .dataframe tbody tr th:only-of-type {\n",
       "        vertical-align: middle;\n",
       "    }\n",
       "\n",
       "    .dataframe tbody tr th {\n",
       "        vertical-align: top;\n",
       "    }\n",
       "\n",
       "    .dataframe thead th {\n",
       "        text-align: right;\n",
       "    }\n",
       "</style>\n",
       "<table border=\"1\" class=\"dataframe\">\n",
       "  <thead>\n",
       "    <tr style=\"text-align: right;\">\n",
       "      <th></th>\n",
       "      <th>SA2_code</th>\n",
       "      <th>sum(dollar_value)</th>\n",
       "    </tr>\n",
       "  </thead>\n",
       "  <tbody>\n",
       "    <tr>\n",
       "      <th>0</th>\n",
       "      <td>101021007.0</td>\n",
       "      <td>1.495891e+06</td>\n",
       "    </tr>\n",
       "    <tr>\n",
       "      <th>1</th>\n",
       "      <td>101021008.0</td>\n",
       "      <td>8.568414e+05</td>\n",
       "    </tr>\n",
       "    <tr>\n",
       "      <th>2</th>\n",
       "      <td>101021009.0</td>\n",
       "      <td>8.568414e+05</td>\n",
       "    </tr>\n",
       "    <tr>\n",
       "      <th>3</th>\n",
       "      <td>101021010.0</td>\n",
       "      <td>8.568414e+05</td>\n",
       "    </tr>\n",
       "    <tr>\n",
       "      <th>4</th>\n",
       "      <td>101021011.0</td>\n",
       "      <td>4.472325e+06</td>\n",
       "    </tr>\n",
       "    <tr>\n",
       "      <th>...</th>\n",
       "      <td>...</td>\n",
       "      <td>...</td>\n",
       "    </tr>\n",
       "    <tr>\n",
       "      <th>2216</th>\n",
       "      <td>801111141.0</td>\n",
       "      <td>1.401791e+06</td>\n",
       "    </tr>\n",
       "    <tr>\n",
       "      <th>2217</th>\n",
       "      <td>901011001.0</td>\n",
       "      <td>5.913394e+05</td>\n",
       "    </tr>\n",
       "    <tr>\n",
       "      <th>2218</th>\n",
       "      <td>901021002.0</td>\n",
       "      <td>8.224491e+05</td>\n",
       "    </tr>\n",
       "    <tr>\n",
       "      <th>2219</th>\n",
       "      <td>901031003.0</td>\n",
       "      <td>8.689848e+05</td>\n",
       "    </tr>\n",
       "    <tr>\n",
       "      <th>2220</th>\n",
       "      <td>901041004.0</td>\n",
       "      <td>9.593233e+05</td>\n",
       "    </tr>\n",
       "  </tbody>\n",
       "</table>\n",
       "<p>2221 rows × 2 columns</p>\n",
       "</div>"
      ],
      "text/plain": [
       "         SA2_code  sum(dollar_value)\n",
       "0     101021007.0       1.495891e+06\n",
       "1     101021008.0       8.568414e+05\n",
       "2     101021009.0       8.568414e+05\n",
       "3     101021010.0       8.568414e+05\n",
       "4     101021011.0       4.472325e+06\n",
       "...           ...                ...\n",
       "2216  801111141.0       1.401791e+06\n",
       "2217  901011001.0       5.913394e+05\n",
       "2218  901021002.0       8.224491e+05\n",
       "2219  901031003.0       8.689848e+05\n",
       "2220  901041004.0       9.593233e+05\n",
       "\n",
       "[2221 rows x 2 columns]"
      ]
     },
     "execution_count": 7,
     "metadata": {},
     "output_type": "execute_result"
    }
   ],
   "source": [
    "# drop duplicates, merge with SA2 data\n",
    "sa2_no_dupe = sa2.drop_duplicates()\n",
    "transaction_consumer = transaction_consumer.merge(sa2_no_dupe)\n",
    "transactions_grouped = transaction_consumer.groupby(\"SA2_code\")[\"sum(dollar_value)\"].sum().reset_index()\n",
    "transactions_grouped"
   ]
  },
  {
   "cell_type": "markdown",
   "metadata": {},
   "source": [
    "### Exploring SA2 areas with High Revenues"
   ]
  },
  {
   "cell_type": "code",
   "execution_count": 8,
   "metadata": {},
   "outputs": [
    {
     "data": {
      "text/html": [
       "<div>\n",
       "<style scoped>\n",
       "    .dataframe tbody tr th:only-of-type {\n",
       "        vertical-align: middle;\n",
       "    }\n",
       "\n",
       "    .dataframe tbody tr th {\n",
       "        vertical-align: top;\n",
       "    }\n",
       "\n",
       "    .dataframe thead th {\n",
       "        text-align: right;\n",
       "    }\n",
       "</style>\n",
       "<table border=\"1\" class=\"dataframe\">\n",
       "  <thead>\n",
       "    <tr style=\"text-align: right;\">\n",
       "      <th></th>\n",
       "      <th>SA2_code</th>\n",
       "      <th>sum(dollar_value)</th>\n",
       "    </tr>\n",
       "  </thead>\n",
       "  <tbody>\n",
       "    <tr>\n",
       "      <th>342</th>\n",
       "      <td>117031337.0</td>\n",
       "      <td>1.180859e+08</td>\n",
       "    </tr>\n",
       "    <tr>\n",
       "      <th>1732</th>\n",
       "      <td>503021041.0</td>\n",
       "      <td>2.041840e+07</td>\n",
       "    </tr>\n",
       "    <tr>\n",
       "      <th>1659</th>\n",
       "      <td>406021141.0</td>\n",
       "      <td>2.034533e+07</td>\n",
       "    </tr>\n",
       "    <tr>\n",
       "      <th>685</th>\n",
       "      <td>206041122.0</td>\n",
       "      <td>1.426584e+07</td>\n",
       "    </tr>\n",
       "    <tr>\n",
       "      <th>597</th>\n",
       "      <td>202031033.0</td>\n",
       "      <td>1.254348e+07</td>\n",
       "    </tr>\n",
       "    <tr>\n",
       "      <th>...</th>\n",
       "      <td>...</td>\n",
       "      <td>...</td>\n",
       "    </tr>\n",
       "    <tr>\n",
       "      <th>1122</th>\n",
       "      <td>305031123.0</td>\n",
       "      <td>8.206280e+04</td>\n",
       "    </tr>\n",
       "    <tr>\n",
       "      <th>1126</th>\n",
       "      <td>305031127.0</td>\n",
       "      <td>8.206280e+04</td>\n",
       "    </tr>\n",
       "    <tr>\n",
       "      <th>1119</th>\n",
       "      <td>305031120.0</td>\n",
       "      <td>8.206280e+04</td>\n",
       "    </tr>\n",
       "    <tr>\n",
       "      <th>1098</th>\n",
       "      <td>304041098.0</td>\n",
       "      <td>8.206280e+04</td>\n",
       "    </tr>\n",
       "    <tr>\n",
       "      <th>1128</th>\n",
       "      <td>305031129.0</td>\n",
       "      <td>8.206280e+04</td>\n",
       "    </tr>\n",
       "  </tbody>\n",
       "</table>\n",
       "<p>2221 rows × 2 columns</p>\n",
       "</div>"
      ],
      "text/plain": [
       "         SA2_code  sum(dollar_value)\n",
       "342   117031337.0       1.180859e+08\n",
       "1732  503021041.0       2.041840e+07\n",
       "1659  406021141.0       2.034533e+07\n",
       "685   206041122.0       1.426584e+07\n",
       "597   202031033.0       1.254348e+07\n",
       "...           ...                ...\n",
       "1122  305031123.0       8.206280e+04\n",
       "1126  305031127.0       8.206280e+04\n",
       "1119  305031120.0       8.206280e+04\n",
       "1098  304041098.0       8.206280e+04\n",
       "1128  305031129.0       8.206280e+04\n",
       "\n",
       "[2221 rows x 2 columns]"
      ]
     },
     "execution_count": 8,
     "metadata": {},
     "output_type": "execute_result"
    }
   ],
   "source": [
    "transactions_top_10 = transactions_grouped.sort_values(by=\"sum(dollar_value)\", ascending=False)\n",
    "transactions_top_10"
   ]
  },
  {
   "cell_type": "markdown",
   "metadata": {},
   "source": [
    "We see that the SA2 area with highest revenue is Haymarket, New South Wales, followed by Perth City and Outback."
   ]
  },
  {
   "cell_type": "markdown",
   "metadata": {},
   "source": [
    "## Geospatial Analysis\n",
    "\n",
    "Now, we use the shapefile to plot each SA2 area's revenue."
   ]
  },
  {
   "cell_type": "code",
   "execution_count": 9,
   "metadata": {},
   "outputs": [],
   "source": [
    "# convert the geometry shape in our shapefile to latitude and longitude, convert SA2 to float to match \n",
    "sf['geometry'] = sf['geometry'].to_crs(\"+proj=longlat +ellps=WGS84 +datum=WGS84 +no_defs\")\n",
    "sf = sf[:2472]\n",
    "sf[\"SA2 code\"] = sf[\"SA2_CODE21\"].astype(float)\n",
    "\n",
    "# create a JSON \n",
    "gdf = gpd.GeoDataFrame(sf)\n",
    "geoJSON = gdf[['SA2 code', 'geometry']].drop_duplicates('SA2 code').to_json()"
   ]
  },
  {
   "cell_type": "code",
   "execution_count": 12,
   "metadata": {},
   "outputs": [
    {
     "data": {
      "text/plain": [
       "<folium.features.Choropleth at 0x12bfdc100>"
      ]
     },
     "execution_count": 12,
     "metadata": {},
     "output_type": "execute_result"
    }
   ],
   "source": [
    "m = folium.Map(location=[-38.043995, 145.264296], tiles=\"Stamen Terrain\", zoom_start=10)\n",
    "c = folium.Choropleth(\n",
    "   geo_data=geoJSON, # geoJSON\n",
    "   name='choropleth', # name of plot\n",
    "   data=transactions_grouped.reset_index(), # data source\n",
    "   columns=['SA2_code','sum(dollar_value)'], # the columns required\n",
    "   key_on='properties.SA2 code', # this is from the geoJSON's properties\n",
    "   fill_color='Reds', # color scheme\n",
    "   nan_fill_color='black',\n",
    "   legend_name='Sum Total Value'\n",
    ")\n",
    "\n",
    "c.add_to(m)\n",
    "\n",
    "# UNCOMMENT THIS TO OBTAIN PLOT: commenting because it crashes down my laptop.\n",
    "#m"
   ]
  },
  {
   "cell_type": "markdown",
   "metadata": {},
   "source": [
    "## Geospatial Analysis based on Logarithmic Scale of Revenue\n",
    "\n",
    "Since we notice that some revenue values were extreme and skewed the plot, we tried to plot the log of revenue instead."
   ]
  },
  {
   "cell_type": "code",
   "execution_count": 13,
   "metadata": {},
   "outputs": [
    {
     "data": {
      "text/plain": [
       "<folium.features.Choropleth at 0x12c02a470>"
      ]
     },
     "execution_count": 13,
     "metadata": {},
     "output_type": "execute_result"
    }
   ],
   "source": [
    "transactions_grouped[\"log_dollar\"] = np.log(transactions_grouped[\"sum(dollar_value)\"])\n",
    "\n",
    "m = folium.Map(location=[-38.043995, 145.264296], tiles=\"Stamen Terrain\", zoom_start=10)\n",
    "c = folium.Choropleth(\n",
    "   geo_data=geoJSON, # geoJSON\n",
    "   name='choropleth', # name of plot\n",
    "   data=transactions_grouped.reset_index(), # data source\n",
    "   columns=['SA2_code','log_dollar'], # the columns required\n",
    "   key_on='properties.SA2 code', # this is from the geoJSON's properties\n",
    "   fill_color='Reds', # color scheme\n",
    "   nan_fill_color='black',\n",
    "   legend_name='Log Sum Total Value'\n",
    ")\n",
    "\n",
    "c.add_to(m)\n",
    "\n",
    "# uncomment this (commenting bc it makes my laptop crash)\n",
    "#m"
   ]
  }
 ],
 "metadata": {
  "interpreter": {
   "hash": "aee8b7b246df8f9039afb4144a1f6fd8d2ca17a180786b69acc140d282b71a49"
  },
  "kernelspec": {
   "display_name": "Python 3.10.10 64-bit",
   "language": "python",
   "name": "python3"
  },
  "language_info": {
   "codemirror_mode": {
    "name": "ipython",
    "version": 3
   },
   "file_extension": ".py",
   "mimetype": "text/x-python",
   "name": "python",
   "nbconvert_exporter": "python",
   "pygments_lexer": "ipython3",
   "version": "3.10.10"
  },
  "orig_nbformat": 4
 },
 "nbformat": 4,
 "nbformat_minor": 2
}
